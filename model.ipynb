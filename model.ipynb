{
 "cells": [
  {
   "cell_type": "code",
   "execution_count": null,
   "id": "013efddc",
   "metadata": {},
   "outputs": [
    {
     "name": "stdout",
     "output_type": "stream",
     "text": [
      "Requirement already satisfied: ultralytics in c:\\users\\fajar\\appdata\\local\\programs\\python\\python39\\lib\\site-packages (8.2.2)\n",
      "Collecting ultralytics\n",
      "  Downloading ultralytics-8.3.184-py3-none-any.whl.metadata (37 kB)\n",
      "Requirement already satisfied: numpy>=1.23.0 in c:\\users\\fajar\\appdata\\local\\programs\\python\\python39\\lib\\site-packages (from ultralytics) (1.24.4)\n",
      "Requirement already satisfied: matplotlib>=3.3.0 in c:\\users\\fajar\\appdata\\roaming\\python\\python39\\site-packages (from ultralytics) (3.9.0)\n",
      "Requirement already satisfied: opencv-python>=4.6.0 in c:\\users\\fajar\\appdata\\local\\programs\\python\\python39\\lib\\site-packages (from ultralytics) (4.9.0.80)\n",
      "Requirement already satisfied: pillow>=7.1.2 in c:\\users\\fajar\\appdata\\local\\programs\\python\\python39\\lib\\site-packages (from ultralytics) (10.0.0)\n",
      "Requirement already satisfied: pyyaml>=5.3.1 in c:\\users\\fajar\\appdata\\local\\programs\\python\\python39\\lib\\site-packages (from ultralytics) (6.0.1)\n",
      "Requirement already satisfied: requests>=2.23.0 in c:\\users\\fajar\\appdata\\local\\programs\\python\\python39\\lib\\site-packages (from ultralytics) (2.31.0)\n",
      "Requirement already satisfied: scipy>=1.4.1 in c:\\users\\fajar\\appdata\\local\\programs\\python\\python39\\lib\\site-packages (from ultralytics) (1.10.1)\n",
      "Requirement already satisfied: torch>=1.8.0 in c:\\users\\fajar\\appdata\\local\\programs\\python\\python39\\lib\\site-packages (from ultralytics) (2.2.2)\n",
      "Requirement already satisfied: torchvision>=0.9.0 in c:\\users\\fajar\\appdata\\local\\programs\\python\\python39\\lib\\site-packages (from ultralytics) (0.17.2)\n",
      "Requirement already satisfied: tqdm>=4.64.0 in c:\\users\\fajar\\appdata\\local\\programs\\python\\python39\\lib\\site-packages (from ultralytics) (4.66.2)\n",
      "Requirement already satisfied: psutil in c:\\users\\fajar\\appdata\\roaming\\python\\python39\\site-packages (from ultralytics) (5.9.8)\n",
      "Requirement already satisfied: py-cpuinfo in c:\\users\\fajar\\appdata\\local\\programs\\python\\python39\\lib\\site-packages (from ultralytics) (9.0.0)\n",
      "Requirement already satisfied: pandas>=1.1.4 in c:\\users\\fajar\\appdata\\local\\programs\\python\\python39\\lib\\site-packages (from ultralytics) (1.5.3)\n",
      "Collecting ultralytics-thop>=2.0.0 (from ultralytics)\n",
      "  Downloading ultralytics_thop-2.0.16-py3-none-any.whl.metadata (14 kB)\n",
      "Requirement already satisfied: contourpy>=1.0.1 in c:\\users\\fajar\\appdata\\local\\programs\\python\\python39\\lib\\site-packages (from matplotlib>=3.3.0->ultralytics) (1.2.1)\n",
      "Requirement already satisfied: cycler>=0.10 in c:\\users\\fajar\\appdata\\local\\programs\\python\\python39\\lib\\site-packages (from matplotlib>=3.3.0->ultralytics) (0.12.1)\n",
      "Requirement already satisfied: fonttools>=4.22.0 in c:\\users\\fajar\\appdata\\local\\programs\\python\\python39\\lib\\site-packages (from matplotlib>=3.3.0->ultralytics) (4.53.0)\n",
      "Requirement already satisfied: kiwisolver>=1.3.1 in c:\\users\\fajar\\appdata\\local\\programs\\python\\python39\\lib\\site-packages (from matplotlib>=3.3.0->ultralytics) (1.4.5)\n",
      "Requirement already satisfied: packaging>=20.0 in c:\\users\\fajar\\appdata\\local\\programs\\python\\python39\\lib\\site-packages (from matplotlib>=3.3.0->ultralytics) (24.0)\n",
      "Requirement already satisfied: pyparsing>=2.3.1 in c:\\users\\fajar\\appdata\\local\\programs\\python\\python39\\lib\\site-packages (from matplotlib>=3.3.0->ultralytics) (3.1.2)\n",
      "Requirement already satisfied: python-dateutil>=2.7 in c:\\users\\fajar\\appdata\\local\\programs\\python\\python39\\lib\\site-packages (from matplotlib>=3.3.0->ultralytics) (2.9.0.post0)\n",
      "Requirement already satisfied: importlib-resources>=3.2.0 in c:\\users\\fajar\\appdata\\local\\programs\\python\\python39\\lib\\site-packages (from matplotlib>=3.3.0->ultralytics) (6.4.0)\n",
      "Requirement already satisfied: pytz>=2020.1 in c:\\users\\fajar\\appdata\\local\\programs\\python\\python39\\lib\\site-packages (from pandas>=1.1.4->ultralytics) (2024.1)\n",
      "Requirement already satisfied: charset-normalizer<4,>=2 in c:\\users\\fajar\\appdata\\local\\programs\\python\\python39\\lib\\site-packages (from requests>=2.23.0->ultralytics) (3.3.2)\n",
      "Requirement already satisfied: idna<4,>=2.5 in c:\\users\\fajar\\appdata\\local\\programs\\python\\python39\\lib\\site-packages (from requests>=2.23.0->ultralytics) (3.7)\n",
      "Requirement already satisfied: urllib3<3,>=1.21.1 in c:\\users\\fajar\\appdata\\local\\programs\\python\\python39\\lib\\site-packages (from requests>=2.23.0->ultralytics) (2.2.1)\n",
      "Requirement already satisfied: certifi>=2017.4.17 in c:\\users\\fajar\\appdata\\local\\programs\\python\\python39\\lib\\site-packages (from requests>=2.23.0->ultralytics) (2024.2.2)\n",
      "Requirement already satisfied: filelock in c:\\users\\fajar\\appdata\\local\\programs\\python\\python39\\lib\\site-packages (from torch>=1.8.0->ultralytics) (3.13.4)\n",
      "Requirement already satisfied: typing-extensions>=4.8.0 in c:\\users\\fajar\\appdata\\local\\programs\\python\\python39\\lib\\site-packages (from torch>=1.8.0->ultralytics) (4.14.1)\n",
      "Requirement already satisfied: sympy in c:\\users\\fajar\\appdata\\local\\programs\\python\\python39\\lib\\site-packages (from torch>=1.8.0->ultralytics) (1.12)\n",
      "Requirement already satisfied: networkx in c:\\users\\fajar\\appdata\\local\\programs\\python\\python39\\lib\\site-packages (from torch>=1.8.0->ultralytics) (3.2.1)\n",
      "Requirement already satisfied: jinja2 in c:\\users\\fajar\\appdata\\local\\programs\\python\\python39\\lib\\site-packages (from torch>=1.8.0->ultralytics) (3.1.3)\n",
      "Requirement already satisfied: fsspec in c:\\users\\fajar\\appdata\\local\\programs\\python\\python39\\lib\\site-packages (from torch>=1.8.0->ultralytics) (2024.3.1)\n",
      "Requirement already satisfied: colorama in c:\\users\\fajar\\appdata\\roaming\\python\\python39\\site-packages (from tqdm>=4.64.0->ultralytics) (0.4.6)\n",
      "Requirement already satisfied: zipp>=3.1.0 in c:\\users\\fajar\\appdata\\local\\programs\\python\\python39\\lib\\site-packages (from importlib-resources>=3.2.0->matplotlib>=3.3.0->ultralytics) (3.19.2)\n",
      "Requirement already satisfied: six>=1.5 in c:\\users\\fajar\\appdata\\local\\programs\\python\\python39\\lib\\site-packages (from python-dateutil>=2.7->matplotlib>=3.3.0->ultralytics) (1.16.0)\n",
      "Requirement already satisfied: MarkupSafe>=2.0 in c:\\users\\fajar\\appdata\\local\\programs\\python\\python39\\lib\\site-packages (from jinja2->torch>=1.8.0->ultralytics) (2.1.5)\n",
      "Requirement already satisfied: mpmath>=0.19 in c:\\users\\fajar\\appdata\\local\\programs\\python\\python39\\lib\\site-packages (from sympy->torch>=1.8.0->ultralytics) (1.3.0)\n",
      "Downloading ultralytics-8.3.184-py3-none-any.whl (1.1 MB)\n",
      "   ---------------------------------------- 0.0/1.1 MB ? eta -:--:--\n",
      "   - -------------------------------------- 0.0/1.1 MB ? eta -:--:--\n",
      "   ----- ---------------------------------- 0.1/1.1 MB 2.1 MB/s eta 0:00:01\n",
      "   --------- ------------------------------ 0.3/1.1 MB 2.3 MB/s eta 0:00:01\n",
      "   ---------------- ----------------------- 0.4/1.1 MB 2.7 MB/s eta 0:00:01\n",
      "   ------------------------ --------------- 0.7/1.1 MB 3.2 MB/s eta 0:00:01\n",
      "   ------------------------------- -------- 0.8/1.1 MB 3.3 MB/s eta 0:00:01\n",
      "   ------------------------------------ --- 1.0/1.1 MB 3.6 MB/s eta 0:00:01\n",
      "   ---------------------------------------- 1.1/1.1 MB 3.3 MB/s eta 0:00:00\n",
      "Downloading ultralytics_thop-2.0.16-py3-none-any.whl (28 kB)\n",
      "Installing collected packages: ultralytics-thop, ultralytics\n",
      "  Attempting uninstall: ultralytics\n",
      "    Found existing installation: ultralytics 8.2.2\n",
      "    Uninstalling ultralytics-8.2.2:\n",
      "      Successfully uninstalled ultralytics-8.2.2\n",
      "Successfully installed ultralytics-8.3.184 ultralytics-thop-2.0.16\n"
     ]
    },
    {
     "name": "stderr",
     "output_type": "stream",
     "text": [
      "WARNING: Ignoring invalid distribution -atplotlib (c:\\users\\fajar\\appdata\\local\\programs\\python\\python39\\lib\\site-packages)\n",
      "WARNING: Ignoring invalid distribution -atplotlib (c:\\users\\fajar\\appdata\\local\\programs\\python\\python39\\lib\\site-packages)\n",
      "\n",
      "[notice] A new release of pip is available: 24.0 -> 25.2\n",
      "[notice] To update, run: python.exe -m pip install --upgrade pip\n"
     ]
    }
   ],
   "source": [
    "# ! pip install --upgrade ultralytics"
   ]
  },
  {
   "cell_type": "code",
   "execution_count": 24,
   "id": "8b752879",
   "metadata": {},
   "outputs": [],
   "source": [
    "from ultralytics import YOLO"
   ]
  },
  {
   "cell_type": "code",
   "execution_count": 25,
   "id": "fab215f9",
   "metadata": {},
   "outputs": [],
   "source": [
    "# Load a model\n",
    "model = YOLO(\"yolov8m.pt\")"
   ]
  },
  {
   "cell_type": "code",
   "execution_count": 26,
   "id": "05e8f452",
   "metadata": {},
   "outputs": [],
   "source": [
    "# # Use the model\n",
    "# model.train(data=\"charDetection-3/data.yaml\", epochs=17)  # train the model\n",
    "# metrics = model.val()  # evaluate model performance on the validation set"
   ]
  },
  {
   "cell_type": "code",
   "execution_count": 27,
   "id": "b4fb5acc",
   "metadata": {},
   "outputs": [],
   "source": [
    "import cv2\n",
    "import numpy as np\n",
    "\n",
    "# parameter\n",
    "input_folder = \"Satriadata/Test/\"\n",
    "target_size = 640\n",
    "\n",
    "# Fungsi: letterbox resize (biar tidak merusak aspek rasio)\n",
    "def letterbox_resize(image, target_size=640):\n",
    "    h, w = image.shape[:2]\n",
    "    scale = target_size / max(h, w)\n",
    "    new_w, new_h = int(w * scale), int(h * scale)\n",
    "    resized = cv2.resize(image, (new_w, new_h), interpolation=cv2.INTER_LINEAR)\n",
    "\n",
    "    canvas = np.full((target_size, target_size, 3), 128, dtype=np.uint8)\n",
    "    top = (target_size - new_h) // 2\n",
    "    left = (target_size - new_w) // 2\n",
    "    canvas[top:top+new_h, left:left+new_w] = resized\n",
    "    return canvas\n",
    "\n",
    "# Fungsi: CLAHE untuk perbaikan kontras\n",
    "def apply_clahe(image):\n",
    "    lab = cv2.cvtColor(image, cv2.COLOR_BGR2LAB)\n",
    "    l, a, b = cv2.split(lab)\n",
    "    clahe = cv2.createCLAHE(clipLimit=2.0, tileGridSize=(8,8))\n",
    "    l = clahe.apply(l)\n",
    "    lab = cv2.merge((l, a, b))\n",
    "    return cv2.cvtColor(lab, cv2.COLOR_LAB2BGR)\n",
    "\n",
    "# Fungsi: Gamma correction (buat gambar lebih terang)\n",
    "def adjust_gamma(image, gamma=1.2):\n",
    "    invGamma = 1.0 / gamma\n",
    "    table = np.array([((i / 255.0) ** invGamma) * 255\n",
    "                      for i in np.arange(0, 256)]).astype(\"uint8\")\n",
    "    return cv2.LUT(image, table)\n",
    "\n",
    "# Fungsi: pertegas warna hitam pada teks\n",
    "def enhance_black_text(image):\n",
    "    gray = cv2.cvtColor(image, cv2.COLOR_BGR2GRAY)\n",
    "    # threshold adaptif supaya teks hitam lebih pekat\n",
    "    thresh = cv2.adaptiveThreshold(gray, 255, cv2.ADAPTIVE_THRESH_MEAN_C,\n",
    "                                   cv2.THRESH_BINARY_INV, 25, 15)\n",
    "    mask = cv2.cvtColor(thresh, cv2.COLOR_GRAY2BGR)\n",
    "    enhanced = cv2.addWeighted(image, 0.7, mask, 0.3, 0)\n",
    "    return enhanced\n",
    "\n",
    "# Fungsi utama preprocessing\n",
    "def preprocess_image(img):\n",
    "    img = letterbox_resize(img, target_size)\n",
    "    img = apply_clahe(img)\n",
    "    img = adjust_gamma(img, gamma=1.2)\n",
    "    img = cv2.bilateralFilter(img, 9, 75, 75)  # denoise tanpa hilangkan tepi\n",
    "    img = enhance_black_text(img)  # pertegas teks hitam\n",
    "    return img\n"
   ]
  },
  {
   "cell_type": "code",
   "execution_count": 36,
   "id": "d3a7c6d4",
   "metadata": {},
   "outputs": [
    {
     "name": "stdout",
     "output_type": "stream",
     "text": [
      "Kolom nama file: Name\n",
      "Kolom kunci    : kunci\n",
      "               File      Kunci    Deteksi  Persentase Benar\n",
      "0     DataTest1.png   AD7034OE   AQ7034OE             87.50\n",
      "1     DataTest2.png    A9388EX   A98088EL             57.14\n",
      "2     DataTest3.png      B16TB      B16TB            100.00\n",
      "3     DataTest4.png   B1661TKZ   B1661TKZ            100.00\n",
      "4     DataTest5.png  AD3772ABE    AO77ABE             66.67\n",
      "..              ...        ...        ...               ...\n",
      "95   DataTest96.png    B1285UL                         0.00\n",
      "96   DataTest97.png   AB8644PK   AB8644PK            100.00\n",
      "97   DataTest98.png   AG9718EG  AG9718EEG             87.50\n",
      "98   DataTest99.png    B1509UN      B509N             71.43\n",
      "99  DataTest100.png    B1408RX    B1408RX            100.00\n",
      "\n",
      "[100 rows x 4 columns]\n"
     ]
    }
   ],
   "source": [
    "import pandas as pd\n",
    "from ultralytics import YOLO\n",
    "import os\n",
    "from collections import Counter\n",
    "\n",
    "# load model hasil training\n",
    "model = YOLO(\"runs/detect/train3/weights/best.pt\")  # ganti sesuai path model\n",
    "\n",
    "# baca data dari CSV\n",
    "df = pd.read_csv(\"Satriadata/Test/DataTest1.csv\", sep=';')   # pastikan kolomnya \"Name of File\" dan \"kunci\"\n",
    "# cari kolom otomatis (case insensitive)\n",
    "col_name = [c for c in df.columns if \"name\" in c.lower()][1]\n",
    "col_kunci = [c for c in df.columns if \"kunci\" in c.lower()][0]\n",
    "\n",
    "print(\"Kolom nama file:\", col_name)\n",
    "print(\"Kolom kunci    :\", col_kunci)\n",
    "\n",
    "results_list = []\n",
    "\n",
    "for _, row in df.iterrows():\n",
    "    img_path = os.path.join(\"Satriadata/Test/\", str(row[col_name]))\n",
    "    true_plate = str(row[col_kunci])\n",
    "\n",
    "    if not os.path.exists(img_path):\n",
    "        print(\"⚠️ File tidak ditemukan:\", img_path)\n",
    "        continue\n",
    "\n",
    "     # Prediksi\n",
    "    results = model.predict(img_path, conf=0.15, verbose=False)  # threshold 0.25 (bisa diatur)\n",
    "    r = results[0]\n",
    "    boxes = r.boxes\n",
    "    xyxy = boxes.xyxy.cpu().numpy()\n",
    "    cls = boxes.cls.cpu().numpy().astype(int)\n",
    "\n",
    "    if len(cls) == 0:\n",
    "        pred_plate = \"\"\n",
    "    else:\n",
    "        # urutkan kiri ke kanan\n",
    "        sorted_idx = xyxy[:, 0].argsort()\n",
    "        pred_plate = \"\".join([model.names[c] for c in cls[sorted_idx]])\n",
    "\n",
    "    # hitung persentase benar (pakai karakter yang sama, bukan posisi)\n",
    "    true_len = len(true_plate)\n",
    "    pred_len = len(pred_plate)\n",
    "\n",
    "    true_counter = Counter(true_plate)\n",
    "    pred_counter = Counter(pred_plate)\n",
    "\n",
    "    # jumlah karakter yang sama (berdasarkan frekuensi terkecil)\n",
    "    common = true_counter & pred_counter\n",
    "    correct_chars = sum(common.values())\n",
    "\n",
    "    # penalti: jika tebakan lebih panjang\n",
    "    penalty = max(0, pred_len - true_len)\n",
    "\n",
    "    adjusted_correct = max(0, correct_chars - penalty)\n",
    "    perc_correct = (adjusted_correct / true_len) * 100 if true_len > 0 else 0\n",
    "\n",
    "    results_list.append({\n",
    "        \"File\": row[col_name],\n",
    "        \"Kunci\": true_plate,\n",
    "        \"Deteksi\": pred_plate,\n",
    "        \"Persentase Benar\": round(perc_correct, 2)\n",
    "    })\n",
    "\n",
    "\n",
    "# simpan hasil\n",
    "results_df = pd.DataFrame(results_list)\n",
    "print(results_df)\n",
    "results_df.to_csv(\"15hasil_prediksi.csv\", index=False)"
   ]
  },
  {
   "cell_type": "code",
   "execution_count": 37,
   "id": "b712782d",
   "metadata": {},
   "outputs": [
    {
     "name": "stdout",
     "output_type": "stream",
     "text": [
      "Rata-rata persentase benar: 82.15%\n"
     ]
    }
   ],
   "source": [
    "# hitung rata-rata persentase benar dari seluruh data test\n",
    "avg_score = results_df[\"Persentase Benar\"].mean()\n",
    "\n",
    "print(f\"Rata-rata persentase benar: {avg_score:.2f}%\")"
   ]
  },
  {
   "cell_type": "code",
   "execution_count": 42,
   "id": "a0a80405",
   "metadata": {},
   "outputs": [
    {
     "name": "stdout",
     "output_type": "stream",
     "text": [
      "Ultralytics 8.3.184  Python-3.9.12 torch-2.2.2+cpu CPU (AMD Ryzen 5 5500U with Radeon Graphics)\n",
      "\u001b[34m\u001b[1mval: \u001b[0mFast image access  (ping: 0.10.0 ms, read: 63.925.3 MB/s, size: 10.5 KB)\n"
     ]
    },
    {
     "name": "stderr",
     "output_type": "stream",
     "text": [
      "\u001b[34m\u001b[1mval: \u001b[0mScanning D:\\Kuliah\\Semester 8\\Portfolio\\Portfolio_ObjectDetection_BDC\\charDetection-3\\test\\labels.cache... 35 images, 1 backgrounds, 0 corrupt: 100%|██████████| 35/35 [00:00<?, ?it/s]"
     ]
    },
    {
     "name": "stdout",
     "output_type": "stream",
     "text": [
      "WARNING Box and segment counts should be equal, but got len(segments) = 183, len(boxes) = 251. To resolve this only boxes will be used and all segments will be removed. To avoid this please supply either a detect or segment dataset, not a detect-segment mixed dataset.\n"
     ]
    },
    {
     "name": "stderr",
     "output_type": "stream",
     "text": [
      "\n",
      "                 Class     Images  Instances      Box(P          R      mAP50  mAP50-95): 100%|██████████| 3/3 [00:08<00:00,  2.78s/it]\n"
     ]
    },
    {
     "name": "stdout",
     "output_type": "stream",
     "text": [
      "                   all         35        251      0.758      0.892      0.899      0.677\n",
      "                     0         10         10      0.849        0.8      0.948      0.586\n",
      "                     1         28         38      0.934      0.947      0.968      0.616\n",
      "                     2         13         14      0.905          1      0.995      0.851\n",
      "                     3          8          8      0.835          1      0.939      0.796\n",
      "                     4          7          8      0.752          1      0.955      0.759\n",
      "                     5          8          9      0.806          1      0.919      0.695\n",
      "                     6         11         11      0.945          1      0.995      0.675\n",
      "                     7          7          8      0.873          1      0.995      0.748\n",
      "                     8         14         17          1       0.83      0.992      0.685\n",
      "                     9          9          9      0.766          1      0.955      0.646\n",
      "                     A         10         12      0.863          1      0.976      0.709\n",
      "                     B         26         30       0.86      0.933      0.917      0.584\n",
      "                     C          3          3      0.602      0.667       0.49      0.389\n",
      "                     D          4          5      0.778      0.712      0.782      0.631\n",
      "                     E          5          5          1      0.984      0.995      0.664\n",
      "                     F          6          6      0.778      0.833      0.847      0.756\n",
      "                     G          5          5      0.784          1      0.995      0.915\n",
      "                     H          2          2      0.732          1      0.995      0.697\n",
      "                     I          4          4      0.854          1      0.995      0.678\n",
      "                     J          5          6      0.819       0.76      0.819      0.605\n",
      "                     K          5          5      0.883        0.8      0.962      0.705\n",
      "                     L          3          3      0.756          1      0.995      0.702\n",
      "                     M          1          1          1          0          0          0\n",
      "                     O          2          2      0.516          1      0.663      0.415\n",
      "                     P          1          1      0.497          1      0.995      0.697\n",
      "                     Q          3          3      0.287      0.667      0.789      0.598\n",
      "                     R          5          5      0.826        0.8      0.962      0.745\n",
      "                     S          3          3      0.641          1      0.995      0.767\n",
      "                     T          6          6      0.765          1      0.995      0.803\n",
      "                     U          3          3      0.617          1      0.995      0.697\n",
      "                     V          2          2      0.749          1      0.995      0.698\n",
      "                     W          3          3      0.734      0.936      0.913      0.913\n",
      "                     X          1          1      0.285          1      0.995      0.995\n",
      "                     Y          1          1      0.888          1      0.995      0.796\n",
      "                     Z          2          2      0.353      0.558      0.745      0.497\n",
      "Speed: 0.9ms preprocess, 228.2ms inference, 0.0ms loss, 0.8ms postprocess per image\n",
      "Results saved to \u001b[1mruns\\detect\\val22\u001b[0m\n",
      "Precision : 0.7579853813701043\n",
      "Recall    : 0.8922090234590772\n",
      "mAP@0.5   : 0.8990322061643503\n",
      "mAP@0.5:0.95 : 0.6774642267427896\n"
     ]
    }
   ],
   "source": [
    "# Jalankan evaluasi dengan dataset yang benar\n",
    "metrics = model.val(data=\"charDetection-3\\data.yaml\", split='test')\n",
    "\n",
    "print(\"Precision :\", metrics.results_dict['metrics/precision(B)'])\n",
    "print(\"Recall    :\", metrics.results_dict['metrics/recall(B)'])\n",
    "print(\"mAP@0.5   :\", metrics.results_dict['metrics/mAP50(B)'])\n",
    "print(\"mAP@0.5:0.95 :\", metrics.results_dict['metrics/mAP50-95(B)'])\n"
   ]
  },
  {
   "cell_type": "code",
   "execution_count": null,
   "id": "4fde5a44",
   "metadata": {},
   "outputs": [],
   "source": []
  }
 ],
 "metadata": {
  "kernelspec": {
   "display_name": "Python 3",
   "language": "python",
   "name": "python3"
  },
  "language_info": {
   "codemirror_mode": {
    "name": "ipython",
    "version": 3
   },
   "file_extension": ".py",
   "mimetype": "text/x-python",
   "name": "python",
   "nbconvert_exporter": "python",
   "pygments_lexer": "ipython3",
   "version": "3.9.12"
  }
 },
 "nbformat": 4,
 "nbformat_minor": 5
}

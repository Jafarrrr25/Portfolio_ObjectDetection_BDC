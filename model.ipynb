{
 "cells": [
  {
   "cell_type": "code",
   "execution_count": 1,
   "id": "013efddc",
   "metadata": {},
   "outputs": [],
   "source": [
    "# ! pip install --upgrade ultralytics"
   ]
  },
  {
   "cell_type": "code",
   "execution_count": 2,
   "id": "8b752879",
   "metadata": {},
   "outputs": [],
   "source": [
    "from ultralytics import YOLO\n",
    "import cv2\n",
    "import numpy as np\n",
    "import pandas as pd\n",
    "import os\n",
    "from collections import Counter\n",
    "import Levenshtein"
   ]
  },
  {
   "cell_type": "code",
   "execution_count": 3,
   "id": "fab215f9",
   "metadata": {},
   "outputs": [],
   "source": [
    "# Load a model\n",
    "model = YOLO(\"yolov8m.pt\")"
   ]
  },
  {
   "cell_type": "code",
   "execution_count": 4,
   "id": "05e8f452",
   "metadata": {},
   "outputs": [],
   "source": [
    "# # Use the model\n",
    "# model.train(data=\"charDetection-3/data.yaml\", epochs=17)  # train the model\n",
    "# metrics = model.val()  # evaluate model performance on the validation set"
   ]
  },
  {
   "cell_type": "code",
   "execution_count": 5,
   "id": "b4fb5acc",
   "metadata": {},
   "outputs": [
    {
     "name": "stdout",
     "output_type": "stream",
     "text": [
      "Hasil preprocessing disimpan: Satriadata/preprocessing/DataTest1.png\n",
      "Hasil preprocessing disimpan: Satriadata/preprocessing/DataTest10.png\n",
      "Hasil preprocessing disimpan: Satriadata/preprocessing/DataTest100.png\n",
      "Hasil preprocessing disimpan: Satriadata/preprocessing/DataTest11.png\n",
      "Hasil preprocessing disimpan: Satriadata/preprocessing/DataTest12.png\n",
      "Hasil preprocessing disimpan: Satriadata/preprocessing/DataTest13.png\n",
      "Hasil preprocessing disimpan: Satriadata/preprocessing/DataTest14.png\n",
      "Hasil preprocessing disimpan: Satriadata/preprocessing/DataTest15.png\n",
      "Hasil preprocessing disimpan: Satriadata/preprocessing/DataTest16.png\n",
      "Hasil preprocessing disimpan: Satriadata/preprocessing/DataTest17.png\n",
      "Hasil preprocessing disimpan: Satriadata/preprocessing/DataTest18.png\n",
      "Hasil preprocessing disimpan: Satriadata/preprocessing/DataTest19.png\n",
      "Hasil preprocessing disimpan: Satriadata/preprocessing/DataTest2.png\n",
      "Hasil preprocessing disimpan: Satriadata/preprocessing/DataTest20.png\n",
      "Hasil preprocessing disimpan: Satriadata/preprocessing/DataTest21.png\n",
      "Hasil preprocessing disimpan: Satriadata/preprocessing/DataTest22.png\n",
      "Hasil preprocessing disimpan: Satriadata/preprocessing/DataTest23.png\n",
      "Hasil preprocessing disimpan: Satriadata/preprocessing/DataTest24.png\n",
      "Hasil preprocessing disimpan: Satriadata/preprocessing/DataTest25.png\n",
      "Hasil preprocessing disimpan: Satriadata/preprocessing/DataTest26.png\n",
      "Hasil preprocessing disimpan: Satriadata/preprocessing/DataTest27.png\n",
      "Hasil preprocessing disimpan: Satriadata/preprocessing/DataTest28.png\n",
      "Hasil preprocessing disimpan: Satriadata/preprocessing/DataTest29.png\n",
      "Hasil preprocessing disimpan: Satriadata/preprocessing/DataTest3.png\n",
      "Hasil preprocessing disimpan: Satriadata/preprocessing/DataTest30.png\n",
      "Hasil preprocessing disimpan: Satriadata/preprocessing/DataTest31.png\n",
      "Hasil preprocessing disimpan: Satriadata/preprocessing/DataTest32.png\n",
      "Hasil preprocessing disimpan: Satriadata/preprocessing/DataTest33.png\n",
      "Hasil preprocessing disimpan: Satriadata/preprocessing/DataTest34.png\n",
      "Hasil preprocessing disimpan: Satriadata/preprocessing/DataTest35.png\n",
      "Hasil preprocessing disimpan: Satriadata/preprocessing/DataTest36.png\n",
      "Hasil preprocessing disimpan: Satriadata/preprocessing/DataTest37.png\n",
      "Hasil preprocessing disimpan: Satriadata/preprocessing/DataTest38.png\n",
      "Hasil preprocessing disimpan: Satriadata/preprocessing/DataTest39.png\n",
      "Hasil preprocessing disimpan: Satriadata/preprocessing/DataTest4.png\n",
      "Hasil preprocessing disimpan: Satriadata/preprocessing/DataTest40.png\n",
      "Hasil preprocessing disimpan: Satriadata/preprocessing/DataTest41.png\n",
      "Hasil preprocessing disimpan: Satriadata/preprocessing/DataTest42.png\n",
      "Hasil preprocessing disimpan: Satriadata/preprocessing/DataTest43.png\n",
      "Hasil preprocessing disimpan: Satriadata/preprocessing/DataTest44.png\n",
      "Hasil preprocessing disimpan: Satriadata/preprocessing/DataTest45.png\n",
      "Hasil preprocessing disimpan: Satriadata/preprocessing/DataTest46.png\n",
      "Hasil preprocessing disimpan: Satriadata/preprocessing/DataTest47.png\n",
      "Hasil preprocessing disimpan: Satriadata/preprocessing/DataTest48.png\n",
      "Hasil preprocessing disimpan: Satriadata/preprocessing/DataTest49.png\n",
      "Hasil preprocessing disimpan: Satriadata/preprocessing/DataTest5.png\n",
      "Hasil preprocessing disimpan: Satriadata/preprocessing/DataTest50.png\n",
      "Hasil preprocessing disimpan: Satriadata/preprocessing/DataTest51.png\n",
      "Hasil preprocessing disimpan: Satriadata/preprocessing/DataTest52.png\n",
      "Hasil preprocessing disimpan: Satriadata/preprocessing/DataTest53.png\n",
      "Hasil preprocessing disimpan: Satriadata/preprocessing/DataTest54.png\n",
      "Hasil preprocessing disimpan: Satriadata/preprocessing/DataTest55.png\n",
      "Hasil preprocessing disimpan: Satriadata/preprocessing/DataTest56.png\n",
      "Hasil preprocessing disimpan: Satriadata/preprocessing/DataTest57.png\n",
      "Hasil preprocessing disimpan: Satriadata/preprocessing/DataTest58.png\n",
      "Hasil preprocessing disimpan: Satriadata/preprocessing/DataTest59.png\n",
      "Hasil preprocessing disimpan: Satriadata/preprocessing/DataTest6.png\n",
      "Hasil preprocessing disimpan: Satriadata/preprocessing/DataTest60.png\n",
      "Hasil preprocessing disimpan: Satriadata/preprocessing/DataTest61.png\n",
      "Hasil preprocessing disimpan: Satriadata/preprocessing/DataTest62.png\n",
      "Hasil preprocessing disimpan: Satriadata/preprocessing/DataTest63.png\n",
      "Hasil preprocessing disimpan: Satriadata/preprocessing/DataTest64.png\n",
      "Hasil preprocessing disimpan: Satriadata/preprocessing/DataTest65.png\n",
      "Hasil preprocessing disimpan: Satriadata/preprocessing/DataTest66.png\n",
      "Hasil preprocessing disimpan: Satriadata/preprocessing/DataTest67.png\n",
      "Hasil preprocessing disimpan: Satriadata/preprocessing/DataTest68.png\n",
      "Hasil preprocessing disimpan: Satriadata/preprocessing/DataTest69.png\n",
      "Hasil preprocessing disimpan: Satriadata/preprocessing/DataTest7.png\n",
      "Hasil preprocessing disimpan: Satriadata/preprocessing/DataTest70.png\n",
      "Hasil preprocessing disimpan: Satriadata/preprocessing/DataTest71.png\n",
      "Hasil preprocessing disimpan: Satriadata/preprocessing/DataTest72.png\n",
      "Hasil preprocessing disimpan: Satriadata/preprocessing/DataTest73.png\n",
      "Hasil preprocessing disimpan: Satriadata/preprocessing/DataTest74.png\n",
      "Hasil preprocessing disimpan: Satriadata/preprocessing/DataTest75.png\n",
      "Hasil preprocessing disimpan: Satriadata/preprocessing/DataTest76.png\n",
      "Hasil preprocessing disimpan: Satriadata/preprocessing/DataTest77.png\n",
      "Hasil preprocessing disimpan: Satriadata/preprocessing/DataTest78.png\n",
      "Hasil preprocessing disimpan: Satriadata/preprocessing/DataTest79.png\n",
      "Hasil preprocessing disimpan: Satriadata/preprocessing/DataTest8.png\n",
      "Hasil preprocessing disimpan: Satriadata/preprocessing/DataTest80.png\n",
      "Hasil preprocessing disimpan: Satriadata/preprocessing/DataTest81.png\n",
      "Hasil preprocessing disimpan: Satriadata/preprocessing/DataTest82.png\n",
      "Hasil preprocessing disimpan: Satriadata/preprocessing/DataTest83.png\n",
      "Hasil preprocessing disimpan: Satriadata/preprocessing/DataTest84.png\n",
      "Hasil preprocessing disimpan: Satriadata/preprocessing/DataTest85.png\n",
      "Hasil preprocessing disimpan: Satriadata/preprocessing/DataTest86.png\n",
      "Hasil preprocessing disimpan: Satriadata/preprocessing/DataTest87.png\n",
      "Hasil preprocessing disimpan: Satriadata/preprocessing/DataTest88.png\n",
      "Hasil preprocessing disimpan: Satriadata/preprocessing/DataTest89.png\n",
      "Hasil preprocessing disimpan: Satriadata/preprocessing/DataTest9.png\n",
      "Hasil preprocessing disimpan: Satriadata/preprocessing/DataTest90.png\n",
      "Hasil preprocessing disimpan: Satriadata/preprocessing/DataTest91.png\n",
      "Hasil preprocessing disimpan: Satriadata/preprocessing/DataTest92.png\n",
      "Hasil preprocessing disimpan: Satriadata/preprocessing/DataTest93.png\n",
      "Hasil preprocessing disimpan: Satriadata/preprocessing/DataTest94.png\n",
      "Hasil preprocessing disimpan: Satriadata/preprocessing/DataTest95.png\n",
      "Hasil preprocessing disimpan: Satriadata/preprocessing/DataTest96.png\n",
      "Hasil preprocessing disimpan: Satriadata/preprocessing/DataTest97.png\n",
      "Hasil preprocessing disimpan: Satriadata/preprocessing/DataTest98.png\n",
      "Hasil preprocessing disimpan: Satriadata/preprocessing/DataTest99.png\n"
     ]
    }
   ],
   "source": [
    "import cv2\n",
    "import numpy as np\n",
    "import os\n",
    "\n",
    "input_folder = \"Satriadata/Test/\"\n",
    "output_folder = \"Satriadata/preprocessing/\"\n",
    "os.makedirs(output_folder, exist_ok=True)\n",
    "\n",
    "target_size = 640\n",
    "\n",
    "# Fungsi: resize letterbox agar seragam 640x640\n",
    "def letterbox_resize(image, target_size=640):\n",
    "    h, w = image.shape[:2]\n",
    "    scale = target_size / max(h, w)\n",
    "    new_w, new_h = int(w * scale), int(h * scale)\n",
    "    resized = cv2.resize(image, (new_w, new_h), interpolation=cv2.INTER_LINEAR)\n",
    "\n",
    "    canvas = np.full((target_size, target_size, 3), 128, dtype=np.uint8)  # abu-abu background\n",
    "    top = (target_size - new_h) // 2\n",
    "    left = (target_size - new_w) // 2\n",
    "    canvas[top:top+new_h, left:left+new_w] = resized\n",
    "    return canvas\n",
    "\n",
    "# Fungsi: tingkatkan brightness dengan gamma ringan\n",
    "def adjust_gamma(image, gamma=1.1):\n",
    "    invGamma = 1.0 / gamma\n",
    "    table = np.array([((i / 255.0) ** invGamma) * 255\n",
    "                      for i in np.arange(256)]).astype(\"uint8\")\n",
    "    return cv2.LUT(image, table)\n",
    "\n",
    "# Fungsi: naikkan kontras dengan CLAHE ringan\n",
    "def enhance_contrast(image):\n",
    "    lab = cv2.cvtColor(image, cv2.COLOR_BGR2LAB)\n",
    "    l, a, b = cv2.split(lab)\n",
    "    clahe = cv2.createCLAHE(clipLimit=1.5, tileGridSize=(8,8))\n",
    "    l = clahe.apply(l)\n",
    "    lab = cv2.merge((l, a, b))\n",
    "    return cv2.cvtColor(lab, cv2.COLOR_LAB2BGR)\n",
    "\n",
    "# Fungsi: sharpening lembut\n",
    "def sharpen(image):\n",
    "    blur = cv2.GaussianBlur(image, (0,0), 1.0)\n",
    "    return cv2.addWeighted(image, 1.2, blur, -0.2, 0)\n",
    "\n",
    "# Pipeline utama\n",
    "def preprocess_soft(img):\n",
    "    img = letterbox_resize(img, target_size)  # seragamkan ukuran\n",
    "    img = adjust_gamma(img, gamma=1.1)        # agak terang\n",
    "    img = enhance_contrast(img)               # kontras naik sedikit\n",
    "    img = sharpen(img)                        # teks lebih menonjol\n",
    "    return img\n",
    "\n",
    "# Proses semua gambar\n",
    "for filename in os.listdir(input_folder):\n",
    "    if filename.lower().endswith(('.png')):\n",
    "        path = os.path.join(input_folder, filename)\n",
    "        img = cv2.imread(path)\n",
    "        if img is None:\n",
    "            print(f\"Gagal membaca {filename}, dilewati.\")\n",
    "            continue\n",
    "\n",
    "        processed = preprocess_soft(img)\n",
    "        save_path = os.path.join(output_folder, filename)\n",
    "        cv2.imwrite(save_path, processed)\n",
    "        print(f\"Hasil preprocessing disimpan: {save_path}\")\n"
   ]
  },
  {
   "cell_type": "code",
   "execution_count": 6,
   "id": "d3a7c6d4",
   "metadata": {},
   "outputs": [
    {
     "name": "stdout",
     "output_type": "stream",
     "text": [
      "Kolom nama file: Name\n",
      "Kolom kunci    : kunci\n"
     ]
    },
    {
     "name": "stderr",
     "output_type": "stream",
     "text": [
      "c:\\Users\\fajar\\AppData\\Local\\Programs\\Python\\Python39\\lib\\site-packages\\tqdm\\auto.py:21: TqdmWarning: IProgress not found. Please update jupyter and ipywidgets. See https://ipywidgets.readthedocs.io/en/stable/user_install.html\n",
      "  from .autonotebook import tqdm as notebook_tqdm\n"
     ]
    },
    {
     "name": "stdout",
     "output_type": "stream",
     "text": [
      "               File      Kunci   Deteksi  Persentase Benar\n",
      "0     DataTest1.png   AD7034OE  AD7034OE            100.00\n",
      "1     DataTest2.png    A9388EX  A9388EAX             87.50\n",
      "2     DataTest3.png      B16TB     B16TB            100.00\n",
      "3     DataTest4.png   B1661TKZ  B1661TKZ            100.00\n",
      "4     DataTest5.png  AD3772ABE  AD372ABE             88.89\n",
      "..              ...        ...       ...               ...\n",
      "95   DataTest96.png    B1285UL      7579             14.29\n",
      "96   DataTest97.png   AB8644PK  AB8644PK            100.00\n",
      "97   DataTest98.png   AG9718EG  AG9718EO             87.50\n",
      "98   DataTest99.png    B1509UN   B1509UN            100.00\n",
      "99  DataTest100.png    B1408RX   B1408RX            100.00\n",
      "\n",
      "[100 rows x 4 columns]\n"
     ]
    }
   ],
   "source": [
    "\n",
    "# load model hasil training\n",
    "model = YOLO(\"runs/detect/train7/weights/best.pt\") \n",
    "# model = YOLO(\"charDetection-2\\ep30.pt\")  # ganti sesuai path model\n",
    "\n",
    "# baca data dari CSV\n",
    "df = pd.read_csv(\"Satriadata/Test/DataTest1.csv\", sep=';')   # pastikan kolomnya \"Name of File\" dan \"kunci\"\n",
    "# cari kolom otomatis (case insensitive)\n",
    "col_name = [c for c in df.columns if \"name\" in c.lower()][1]\n",
    "col_kunci = [c for c in df.columns if \"kunci\" in c.lower()][0]\n",
    "\n",
    "print(\"Kolom nama file:\", col_name)\n",
    "print(\"Kolom kunci    :\", col_kunci)\n",
    "\n",
    "results_list = []\n",
    "\n",
    "for _, row in df.iterrows():\n",
    "    img_path = os.path.join(\"Satriadata/preprocessing/\", str(row[col_name]))\n",
    "    true_plate = str(row[col_kunci])\n",
    "\n",
    "    if not os.path.exists(img_path):\n",
    "        print(\"⚠️ File tidak ditemukan:\", img_path)\n",
    "        continue\n",
    "\n",
    "    # Prediksi\n",
    "    results = model.predict(img_path, conf=0.25, verbose=False)  \n",
    "    r = results[0]\n",
    "    boxes = r.boxes\n",
    "    xyxy = boxes.xyxy.cpu().numpy()\n",
    "    cls = boxes.cls.cpu().numpy().astype(int)\n",
    "\n",
    "    if len(cls) == 0:\n",
    "        pred_plate = \"\"\n",
    "    else:\n",
    "        # urutkan kiri ke kanan\n",
    "        sorted_idx = xyxy[:, 0].argsort()\n",
    "        pred_plate = \"\".join([model.names[c] for c in cls[sorted_idx]])\n",
    "\n",
    "    # hitung similarity dengan Levenshtein\n",
    "    lev_dist = Levenshtein.distance(true_plate, pred_plate)\n",
    "    max_len = max(len(true_plate), len(pred_plate)) if max(len(true_plate), len(pred_plate)) > 0 else 1\n",
    "    perc_correct = (1 - lev_dist / max_len) * 100\n",
    "\n",
    "    results_list.append({\n",
    "        \"File\": row[col_name],\n",
    "        \"Kunci\": true_plate,\n",
    "        \"Deteksi\": pred_plate,\n",
    "        \"Persentase Benar\": round(perc_correct, 2)\n",
    "    })\n",
    "\n",
    "# simpan hasil\n",
    "results_df = pd.DataFrame(results_list)\n",
    "print(results_df)\n",
    "results_df.to_excel(\"18hasil_prediksi.xlsx\", index=False)"
   ]
  },
  {
   "cell_type": "code",
   "execution_count": 7,
   "id": "b712782d",
   "metadata": {},
   "outputs": [
    {
     "name": "stdout",
     "output_type": "stream",
     "text": [
      "Rata-rata persentase benar: 88.17%\n"
     ]
    }
   ],
   "source": [
    "# hitung rata-rata persentase benar dari seluruh data test\n",
    "avg_score = results_df[\"Persentase Benar\"].mean()\n",
    "\n",
    "print(f\"Rata-rata persentase benar: {avg_score:.2f}%\")"
   ]
  },
  {
   "cell_type": "code",
   "execution_count": 8,
   "id": "a0a80405",
   "metadata": {},
   "outputs": [
    {
     "name": "stdout",
     "output_type": "stream",
     "text": [
      "Ultralytics 8.3.184  Python-3.9.12 torch-2.2.2+cpu CPU (AMD Ryzen 5 5500U with Radeon Graphics)\n",
      "\u001b[34m\u001b[1mval: \u001b[0mFast image access  (ping: 0.10.0 ms, read: 80.026.0 MB/s, size: 9.8 KB)\n"
     ]
    },
    {
     "name": "stderr",
     "output_type": "stream",
     "text": [
      "\u001b[34m\u001b[1mval: \u001b[0mScanning D:\\Kuliah\\Semester 8\\Portfolio\\Portfolio_ObjectDetection_BDC\\charDetection-2\\valid\\labels.cache... 32 images, 0 backgrounds, 0 corrupt: 100%|██████████| 32/32 [00:00<?, ?it/s]"
     ]
    },
    {
     "name": "stdout",
     "output_type": "stream",
     "text": [
      "WARNING Box and segment counts should be equal, but got len(segments) = 188, len(boxes) = 234. To resolve this only boxes will be used and all segments will be removed. To avoid this please supply either a detect or segment dataset, not a detect-segment mixed dataset.\n"
     ]
    },
    {
     "name": "stderr",
     "output_type": "stream",
     "text": [
      "\n",
      "                 Class     Images  Instances      Box(P          R      mAP50  mAP50-95): 100%|██████████| 2/2 [00:08<00:00,  4.23s/it]\n"
     ]
    },
    {
     "name": "stdout",
     "output_type": "stream",
     "text": [
      "                   all         32        234      0.838      0.918      0.926      0.708\n",
      "                     0          7          8      0.825          1      0.967      0.777\n",
      "                     1         26         32      0.925      0.938      0.933      0.644\n",
      "                     2         12         14      0.894          1      0.976       0.75\n",
      "                     3          9         10      0.989          1      0.995      0.814\n",
      "                     4          7          8      0.758      0.875      0.962      0.763\n",
      "                     5          9         11      0.906       0.88      0.888       0.58\n",
      "                     6          7          8      0.932      0.875       0.88      0.797\n",
      "                     7          9         10      0.844        0.8      0.737      0.597\n",
      "                     8         10         12      0.773      0.917      0.945      0.662\n",
      "                     9          9         12      0.947      0.833      0.899      0.745\n",
      "                     A         14         15      0.859          1      0.964      0.683\n",
      "                     B         24         25      0.832          1       0.87        0.6\n",
      "                     C          2          2      0.964          1      0.995      0.822\n",
      "                     D          8          8          1      0.761      0.902      0.713\n",
      "                     E          7          8      0.944          1      0.995      0.641\n",
      "                     F          4          4      0.888          1      0.995      0.815\n",
      "                     I          4          4          1      0.896      0.995      0.625\n",
      "                     J          7          7      0.794      0.857      0.764      0.582\n",
      "                     K          3          3      0.672          1       0.83      0.616\n",
      "                     L          2          2          1      0.583      0.995      0.301\n",
      "                     M          1          1      0.711          1      0.995      0.895\n",
      "                     O          1          1      0.411          1      0.995      0.995\n",
      "                     P          2          2      0.814          1      0.995      0.532\n",
      "                     Q          3          3      0.776          1      0.995      0.814\n",
      "                     R          2          3      0.708      0.667      0.691      0.658\n",
      "                     S          5          5      0.808          1      0.995      0.916\n",
      "                     T          6          6      0.921          1      0.995      0.727\n",
      "                     U          3          4      0.774       0.87      0.945       0.76\n",
      "                     V          1          1      0.702          1      0.995      0.895\n",
      "                     Z          5          5      0.765        0.8      0.688      0.517\n",
      "Speed: 0.8ms preprocess, 253.1ms inference, 0.0ms loss, 0.7ms postprocess per image\n",
      "Results saved to \u001b[1mruns\\detect\\val53\u001b[0m\n",
      "Precision : 0.837857430562692\n",
      "Recall    : 0.9183920633216122\n",
      "mAP@0.5   : 0.9258671912717099\n",
      "mAP@0.5:0.95 : 0.7078535268995937\n"
     ]
    }
   ],
   "source": [
    "# Jalankan evaluasi dengan dataset yang benar\n",
    "metrics = model.val(data=\"charDetection-2\\data.yaml\", split='val')\n",
    "\n",
    "print(\"Precision :\", metrics.results_dict['metrics/precision(B)'])\n",
    "print(\"Recall    :\", metrics.results_dict['metrics/recall(B)'])\n",
    "print(\"mAP@0.5   :\", metrics.results_dict['metrics/mAP50(B)'])\n",
    "print(\"mAP@0.5:0.95 :\", metrics.results_dict['metrics/mAP50-95(B)'])\n"
   ]
  },
  {
   "cell_type": "code",
   "execution_count": null,
   "id": "0d14a2c6",
   "metadata": {},
   "outputs": [],
   "source": []
  }
 ],
 "metadata": {
  "kernelspec": {
   "display_name": "Python 3",
   "language": "python",
   "name": "python3"
  },
  "language_info": {
   "codemirror_mode": {
    "name": "ipython",
    "version": 3
   },
   "file_extension": ".py",
   "mimetype": "text/x-python",
   "name": "python",
   "nbconvert_exporter": "python",
   "pygments_lexer": "ipython3",
   "version": "3.9.12"
  }
 },
 "nbformat": 4,
 "nbformat_minor": 5
}
